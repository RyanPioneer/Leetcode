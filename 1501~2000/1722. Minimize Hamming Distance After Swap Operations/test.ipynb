{
 "cells": [
  {
   "cell_type": "code",
   "execution_count": 6,
   "metadata": {
    "collapsed": true,
    "ExecuteTime": {
     "start_time": "2023-04-14T22:46:04.986786Z",
     "end_time": "2023-04-14T22:46:04.989369Z"
    }
   },
   "outputs": [
    {
     "name": "stdout",
     "output_type": "stream",
     "text": [
      "tes\n",
      "2\n"
     ]
    }
   ],
   "source": [
    "from collections import Counter\n",
    "a = [1,1,1,2,2,3]\n",
    "cnt = Counter(a)\n",
    "if 3 in cnt:\n",
    "    cnt[3] -= 1\n",
    "    print(\"tes\")\n",
    "if 3 in cnt and cnt[3] > 0:\n",
    "    cnt[3] -= 1\n",
    "    print(cnt[3])\n",
    "else:\n",
    "    print(cnt[2])"
   ]
  }
 ],
 "metadata": {
  "kernelspec": {
   "display_name": "Python 3",
   "language": "python",
   "name": "python3"
  },
  "language_info": {
   "codemirror_mode": {
    "name": "ipython",
    "version": 2
   },
   "file_extension": ".py",
   "mimetype": "text/x-python",
   "name": "python",
   "nbconvert_exporter": "python",
   "pygments_lexer": "ipython2",
   "version": "2.7.6"
  }
 },
 "nbformat": 4,
 "nbformat_minor": 0
}
