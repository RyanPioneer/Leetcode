{
 "cells": [
  {
   "cell_type": "code",
   "execution_count": 5,
   "metadata": {
    "collapsed": true,
    "ExecuteTime": {
     "start_time": "2023-04-12T14:19:42.986325Z",
     "end_time": "2023-04-12T14:19:42.993852Z"
    }
   },
   "outputs": [
    {
     "data": {
      "text/plain": "-99"
     },
     "execution_count": 5,
     "metadata": {},
     "output_type": "execute_result"
    }
   ],
   "source": [
    "from heapq import heapify, heappush, heappop, nsmallest\n",
    "heap = [5,3,7,0,0,1,2,-1,7,-3,8,-99,99,-100]\n",
    "heapify(heap)\n",
    "\n",
    "heappop(heap)\n",
    "heap[0]"
   ]
  }
 ],
 "metadata": {
  "kernelspec": {
   "display_name": "Python 3",
   "language": "python",
   "name": "python3"
  },
  "language_info": {
   "codemirror_mode": {
    "name": "ipython",
    "version": 2
   },
   "file_extension": ".py",
   "mimetype": "text/x-python",
   "name": "python",
   "nbconvert_exporter": "python",
   "pygments_lexer": "ipython2",
   "version": "2.7.6"
  }
 },
 "nbformat": 4,
 "nbformat_minor": 0
}
