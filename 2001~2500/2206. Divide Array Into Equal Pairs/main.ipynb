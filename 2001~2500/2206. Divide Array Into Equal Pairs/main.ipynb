{
 "cells": [
  {
   "cell_type": "code",
   "execution_count": 5,
   "metadata": {},
   "outputs": [
    {
     "name": "stdout",
     "output_type": "stream",
     "text": [
      "3\n",
      "\n",
      "\n",
      "2\n",
      "\n",
      "\n",
      "2\n",
      "\n",
      "\n",
      "4\n",
      "\n",
      "\n",
      "True\n"
     ]
    }
   ],
   "source": [
    "nums = [3,2,3,2,2,2]\n",
    "my_dict = dict()\n",
    "for n in nums:\n",
    "    if n in my_dict:\n",
    "        my_dict[n] += 1\n",
    "    else:\n",
    "        my_dict[n] = 1\n",
    "for key, value in my_dict.items():\n",
    "    print(key)\n",
    "    print('\\n')\n",
    "    print(value)\n",
    "    print('\\n')\n",
    "    if value%2 == 1:\n",
    "        print(False) \n",
    "print(True) "
   ]
  }
 ],
 "metadata": {
  "kernelspec": {
   "display_name": "Python 3.8.11 ('base')",
   "language": "python",
   "name": "python3"
  },
  "language_info": {
   "codemirror_mode": {
    "name": "ipython",
    "version": 3
   },
   "file_extension": ".py",
   "mimetype": "text/x-python",
   "name": "python",
   "nbconvert_exporter": "python",
   "pygments_lexer": "ipython3",
   "version": "3.8.11"
  },
  "orig_nbformat": 4,
  "vscode": {
   "interpreter": {
    "hash": "d1b126fc9557eb326d74aa60c0871a4eb4c522a165d5d8b4eb1fd5bc14800e86"
   }
  }
 },
 "nbformat": 4,
 "nbformat_minor": 2
}
