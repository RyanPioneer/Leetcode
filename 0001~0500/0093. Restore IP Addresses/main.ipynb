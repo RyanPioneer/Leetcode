{
 "cells": [
  {
   "cell_type": "code",
   "execution_count": 1,
   "metadata": {
    "collapsed": true
   },
   "outputs": [
    {
     "data": {
      "text/plain": "'12'"
     },
     "execution_count": 1,
     "metadata": {},
     "output_type": "execute_result"
    }
   ],
   "source": [
    "s = \"1234\"\n",
    "s[0:2]"
   ]
  },
  {
   "cell_type": "code",
   "execution_count": 2,
   "outputs": [
    {
     "data": {
      "text/plain": "[1, 2, 3, 4]"
     },
     "execution_count": 2,
     "metadata": {},
     "output_type": "execute_result"
    }
   ],
   "source": [
    "t = [1,2]\n",
    "s = [3,4]\n",
    "t += s\n",
    "t"
   ],
   "metadata": {
    "collapsed": false
   }
  },
  {
   "cell_type": "code",
   "execution_count": 3,
   "outputs": [],
   "source": [
    "\"\"\"\n",
    "Source: https://leetcode.com/problems/restore-ip-addresses/\n",
    "Date: 2023/1/21\n",
    "Skill: Backtracking\n",
    "Ref:\n",
    "Runtime: 1926 ms, faster than 42.10%\n",
    "Memory Usage: 14.2 MB, less than 69.37%\n",
    "Time complexity:\n",
    "Space complexity:\n",
    "Constraints:\n",
    "    1 <= s.length <= 20\n",
    "    s consists of digits only.\n",
    "\"\"\"\n",
    "\n",
    "from typing import List, Optional\n",
    "\n",
    "class Solution:\n",
    "    def restoreIpAddresses(self, s: str) -> List[str]:\n",
    "        self.res, sz = [], len(s)\n",
    "\n",
    "        def backtrack(idx, remaining_num):\n",
    "            local_res = []\n",
    "            if idx >= sz: return local_res\n",
    "            if remaining_num == 1:\n",
    "                if sz-idx > 3 or (sz-idx > 1 and s[idx] == \"0\") or int(s[idx:sz]) > 255: return local_res\n",
    "                else: return [s[idx:sz]]\n",
    "\n",
    "            if s[idx] == \"0\" and (sz-idx-1)/(remaining_num-1) <= 3:\n",
    "                next_res = backtrack(idx + 1, remaining_num - 1)\n",
    "                if len(next_res) > 0:\n",
    "                    for res in next_res:\n",
    "                        local_res.append(s[idx]+\".\"+res)\n",
    "                if remaining_num == 4: self.res += local_res\n",
    "                else: return local_res\n",
    "\n",
    "            else:\n",
    "                for i in range(3):\n",
    "                    if (sz-(idx+i)-1)/(remaining_num-1) <= 3 and int(s[idx:idx+i+1]) <= 255:\n",
    "                        next_res = backtrack(idx + i + 1, remaining_num - 1)\n",
    "                        if len(next_res) > 0:\n",
    "                            for res in next_res:\n",
    "                                local_res.append(s[idx:idx+i+1] + \".\" + res)\n",
    "                if remaining_num == 4: self.res += local_res\n",
    "                else: return local_res\n",
    "\n",
    "        backtrack(0, 4)\n",
    "        return self.res\n"
   ],
   "metadata": {
    "collapsed": false
   }
  },
  {
   "cell_type": "code",
   "execution_count": 4,
   "outputs": [
    {
     "data": {
      "text/plain": "['10.1.010.10',\n '10.10.10.10',\n '10.10.101.0',\n '10.101.0.10',\n '101.0.10.10',\n '101.0.101.0']"
     },
     "execution_count": 4,
     "metadata": {},
     "output_type": "execute_result"
    }
   ],
   "source": [
    "string = \"10101010\"\n",
    "s = Solution\n",
    "res = s.restoreIpAddresses(s, string)\n",
    "res"
   ],
   "metadata": {
    "collapsed": false
   }
  },
  {
   "cell_type": "code",
   "execution_count": 5,
   "outputs": [
    {
     "data": {
      "text/plain": "0"
     },
     "execution_count": 5,
     "metadata": {},
     "output_type": "execute_result"
    }
   ],
   "source": [
    "test = []\n",
    "len(test)"
   ],
   "metadata": {
    "collapsed": false
   }
  },
  {
   "cell_type": "code",
   "execution_count": null,
   "outputs": [],
   "source": [],
   "metadata": {
    "collapsed": false
   }
  }
 ],
 "metadata": {
  "kernelspec": {
   "display_name": "Python 3",
   "language": "python",
   "name": "python3"
  },
  "language_info": {
   "codemirror_mode": {
    "name": "ipython",
    "version": 2
   },
   "file_extension": ".py",
   "mimetype": "text/x-python",
   "name": "python",
   "nbconvert_exporter": "python",
   "pygments_lexer": "ipython2",
   "version": "2.7.6"
  }
 },
 "nbformat": 4,
 "nbformat_minor": 0
}
