{
 "cells": [
  {
   "cell_type": "code",
   "execution_count": 13,
   "metadata": {},
   "outputs": [
    {
     "data": {
      "text/plain": [
       "[[1, 1, 2], [2, 2, 1], [3, 4, 2]]"
      ]
     },
     "execution_count": 13,
     "metadata": {},
     "output_type": "execute_result"
    }
   ],
   "source": [
    "matrix = [[9,9,4],[6,6,8],[2,1,1]]\n",
    "global dp, dir\n",
    "dp = [[-1 for i in range(len(matrix[0]))] for j in range(len(matrix))]\n",
    "dir = [[0,1],[0,-1],[1,0],[-1,0]]\n",
    "res = 0\n",
    "\n",
    "def check_valid(x,y,matrix):\n",
    "    if x>=0 and x<len(matrix) and y>=0 and y<len(matrix[0]):\n",
    "        return True\n",
    "    return False\n",
    "\n",
    "def bfs(i,j,matrix):\n",
    "    if dp[i][j] == -1:\n",
    "        l = 0\n",
    "        for dirx, diry in dir:\n",
    "            if check_valid(i+dirx,j+diry,matrix) and matrix[i][j]<matrix[i+dirx][j+diry]:\n",
    "                l = max(l,bfs(i+dirx,j+diry,matrix))\n",
    "        dp[i][j] = l+1\n",
    "                \n",
    "    return dp[i][j]    \n",
    "    \n",
    "for i in range(len(matrix)):\n",
    "    for j in range(len(matrix[0])):\n",
    "        res = max(res, bfs(i,j,matrix))\n",
    "dp"
   ]
  },
  {
   "cell_type": "code",
   "execution_count": 11,
   "metadata": {},
   "outputs": [
    {
     "name": "stdout",
     "output_type": "stream",
     "text": [
      "0\n",
      "1\n",
      "0\n",
      "-1\n",
      "1\n",
      "0\n",
      "-1\n",
      "0\n"
     ]
    }
   ],
   "source": [
    "dir = [[0,1],[0,-1],[1,0],[-1,0]]\n",
    "for dirx, diry in dir:\n",
    "    print(dirx)\n",
    "    print((diry))"
   ]
  }
 ],
 "metadata": {
  "kernelspec": {
   "display_name": "Python 3.8.11 ('base')",
   "language": "python",
   "name": "python3"
  },
  "language_info": {
   "codemirror_mode": {
    "name": "ipython",
    "version": 3
   },
   "file_extension": ".py",
   "mimetype": "text/x-python",
   "name": "python",
   "nbconvert_exporter": "python",
   "pygments_lexer": "ipython3",
   "version": "3.8.11"
  },
  "orig_nbformat": 4,
  "vscode": {
   "interpreter": {
    "hash": "d1b126fc9557eb326d74aa60c0871a4eb4c522a165d5d8b4eb1fd5bc14800e86"
   }
  }
 },
 "nbformat": 4,
 "nbformat_minor": 2
}
